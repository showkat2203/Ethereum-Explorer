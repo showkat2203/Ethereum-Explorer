{
 "cells": [
  {
   "cell_type": "code",
   "execution_count": 12,
   "id": "5d822b9b",
   "metadata": {},
   "outputs": [
    {
     "name": "stdout",
     "output_type": "stream",
     "text": [
      "23131\n"
     ]
    }
   ],
   "source": [
    "import os\n",
    "from glob import glob\n",
    "import re\n",
    "\n",
    "temp = []\n",
    "\n",
    "with open(\"address_not_added_code_list.txt\", \"r\") as fs:\n",
    "    lines = fs.readlines()\n",
    "    \n",
    "    for line in lines:\n",
    "        x = re.findall(r'\\b0x\\w+', line)\n",
    "        if( len(x) > 0):\n",
    "            temp.append(x[0])\n",
    "#         print(x)\n",
    "#         break\n",
    "\n",
    "    \n",
    "# print(lines)\n",
    "print(len(temp))"
   ]
  },
  {
   "cell_type": "code",
   "execution_count": null,
   "id": "f077e79e",
   "metadata": {},
   "outputs": [],
   "source": [
    "with open('code_not_exist_latest.txt', 'w') as fp:\n",
    "    fp.write('\\n'.join(no_code_list))\n"
   ]
  }
 ],
 "metadata": {
  "kernelspec": {
   "display_name": "Python 3 (ipykernel)",
   "language": "python",
   "name": "python3"
  },
  "language_info": {
   "codemirror_mode": {
    "name": "ipython",
    "version": 3
   },
   "file_extension": ".py",
   "mimetype": "text/x-python",
   "name": "python",
   "nbconvert_exporter": "python",
   "pygments_lexer": "ipython3",
   "version": "3.8.10"
  }
 },
 "nbformat": 4,
 "nbformat_minor": 5
}
